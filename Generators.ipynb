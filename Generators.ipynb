{
 "cells": [
  {
   "cell_type": "markdown",
   "metadata": {},
   "source": [
    "<subject>\n",
    "Assignment How-To\n",
    "</subject>\n",
    "\n",
    "<details>\n",
    "    \n",
    "**Do Not Talk During Quizzes or Exams**\n",
    "\n",
    "Do not talk at all once an exam has begun. You may talk again once you leave the room after the quiz or exam. The one exception to this rule is if you need to ask the exam proctor a question. Any talking during a quiz or exam qualifies the student for disciplinary action.\n",
    "\n",
    "**Naming Conventions**\n",
    "\n",
    "When naming your files for upload, you must follow the format below:\n",
    "\n",
    "    <uni>_<assignment>_<details [optional]>.<extension>\n",
    "\n",
    "For example, if I needed to hand in HW 0, any of the below formats would be sufficient for a file name:\n",
    "\n",
    "- pl2648_hw0.ipynb\n",
    "- pl2648_hw0.txt\n",
    "- pl2648_hw0.sh\n",
    "- pl2648_hw0_all_in_one.txt\n",
    "- Pl2648_hw0_bash_program.sh\n",
    "- Pl2648_quiz1.ipynb\n",
    "\n",
    "This naming format allows for autograding of all assignments. If your files are not named with this format, you should expect a grade of zero for the assignment.\n",
    "\n",
    "Courseworks may rename your file to something like `pl2648_hw0-1.ipynb` if you resubmit your assignment. This is perfectly fine.\n",
    "\n",
    "**What Format To Submit In**\n",
    "\n",
    "Most homework and quizzes are in Jupyter notebooks. Unless specified otherwise, please download your work as an `.ipynb` file from your local machine and upload it to courseworks.\n",
    "\n",
    "\n",
    "**Grading**\n",
    "\n",
    "Possible points on late assignments are deducted by 50% for each day they are late. For example, if you get 80% of the total possible credits on a homework but hand in that homework a day late, you would get 40%. Assignments two days late get zero points.\n",
    "\n",
    "Once solutions are posted and graded assignments are handed back, students have 1 week to bring their grading discrepancies to a CA for consideration of possible grading errors. \n",
    "\n",
    "Because grading is automated, please delete (or comment out) the `raise NotImplmeneted` code before attempting a problem. \n",
    "\n",
    "Empty un-editable cells in an assignment are there for a purpose. They will be filled with tests by the automatic grader. Please do not attempt to remove them.\n",
    "\n",
    "**Getting Help**\n",
    "\n",
    "Asking for help is a great way to increase your chance of success. However there are some rules. When asking for help (especially from a fellow student), *you can show your helper your code but you can not view theirs*. You work needs to be your own. You can not post screenshots of your current work to Piazza or other tools used for getting help.\n",
    "\n",
    "If you need to reach out to a CA for help, please do so via Piazza and not via email. Answers given via Piazza will help you as well as other students. Thus, emails will always have a lower priority for response than Piazza questions. If you do email the CA, please make a note of what section you are in. This helps us identify you in courseworks faster. \n",
    "\n",
    "Finally, if you do not get a repsonse from a CA within 48 hours, you may email the professor.\n",
    "\n",
    "**Multiple Choice**\n",
    "\n",
    "If the question is multiple choice, you will be given several options to choose from and your function will need to return **one** of those options **verbatim** as a string.\n",
    "\n",
    "For example: \n",
    "\n",
    "Which of the following animals bark?\n",
    "\n",
    "- dogs\n",
    "- cats\n",
    "- fish\n",
    "- trees\n",
    "\n",
    "A correct answer would be structured in the following way:\n",
    "\n",
    "```python\n",
    "def question_animals():\n",
    "    return 'dogs'\n",
    "```\n",
    "\n",
    "You answer will be stripped of left and right white space and lowercased before comparison to the correct answer during grading.\n",
    "</details>"
   ]
  },
  {
   "cell_type": "markdown",
   "metadata": {
    "deletable": false,
    "editable": false,
    "nbgrader": {
     "cell_type": "markdown",
     "checksum": "c9ed24c9ed5db69e61d9bc6c2b68f009",
     "grade": false,
     "grade_id": "cell-615b31d10dc99e3c",
     "locked": true,
     "schema_version": 3,
     "solution": false
    }
   },
   "source": [
    "**Q**: Create a generator function `nmultiples` that returns a generator object that can be used to produce all of the multiples of a number N. Your function should be able to generate the 1,000,000th multiple in under a second.\n",
    "\n",
    "Please note that the sequence in this problem starts with 0.\n",
    "\n",
    "```python\n",
    ">>> m = nmultiples(7)\n",
    ">>> [next(m) for _ in range(5)]\n",
    "[0, 7, 14, 21, 28]\n",
    "```\n",
    "[2 points]"
   ]
  },
  {
   "cell_type": "code",
   "execution_count": null,
   "metadata": {
    "deletable": false,
    "nbgrader": {
     "cell_type": "code",
     "checksum": "1a78fbfeedac5d971d7968267f9fa3a2",
     "grade": false,
     "grade_id": "cell-32574a3fb8ed5982",
     "locked": false,
     "schema_version": 3,
     "solution": true
    }
   },
   "outputs": [],
   "source": [
    "def nmultiples(n):\n",
    "    # YOUR CODE HERE\n",
    "    raise NotImplementedError()"
   ]
  },
  {
   "cell_type": "code",
   "execution_count": null,
   "metadata": {
    "deletable": false,
    "editable": false,
    "nbgrader": {
     "cell_type": "code",
     "checksum": "4f5db4310ab9717b961868dd2df03633",
     "grade": true,
     "grade_id": "cell-2970ff4efe5245f7",
     "locked": true,
     "points": 0.5,
     "schema_version": 3,
     "solution": false
    }
   },
   "outputs": [],
   "source": [
    "### BEGIN TESTS\n",
    "m = nmultiples(7)\n",
    "assert [next(m) for _ in range(5)] == [0, 7, 14, 21, 28]\n",
    "### END TESTS"
   ]
  },
  {
   "cell_type": "code",
   "execution_count": null,
   "metadata": {
    "deletable": false,
    "editable": false,
    "nbgrader": {
     "cell_type": "code",
     "checksum": "fcb67459b2c270260c10d29040cf78d4",
     "grade": true,
     "grade_id": "cell-447405b27b670689",
     "locked": true,
     "points": 0.5,
     "schema_version": 3,
     "solution": false
    }
   },
   "outputs": [],
   "source": []
  },
  {
   "cell_type": "code",
   "execution_count": null,
   "metadata": {
    "deletable": false,
    "editable": false,
    "nbgrader": {
     "cell_type": "code",
     "checksum": "b80749db4912b6c274916d0fc69734c6",
     "grade": true,
     "grade_id": "cell-c4da759e55299384",
     "locked": true,
     "points": 1,
     "schema_version": 3,
     "solution": false
    }
   },
   "outputs": [],
   "source": [
    "### BEGIN TESTS\n",
    "import inspect\n",
    "\n",
    "assert inspect.isgeneratorfunction(nmultiples)\n",
    "### END TESTS"
   ]
  },
  {
   "cell_type": "markdown",
   "metadata": {
    "deletable": false,
    "editable": false,
    "nbgrader": {
     "cell_type": "markdown",
     "checksum": "63f71998bbcba6e3cdb6c63444bfd3cc",
     "grade": false,
     "grade_id": "cell-f3af5cd8aa350d7a",
     "locked": true,
     "schema_version": 3,
     "solution": false
    }
   },
   "source": [
    "**Q**: Create a generate that returns points along a noisy sine wave. The noise should not be added in the amplitude of the wave but in the values passed to `math.sin` . For example, the generator should produce `math.sin` of the `start_radians` given and then, for all following values, produce a value 0 to 0.2 radians (inclusive) ahead of the last value. To be clear, you can use the built in `math.sin` function to solve this problem and only add in noise via the value passed to that function. \n",
    "\n",
    "[2 points]"
   ]
  },
  {
   "cell_type": "code",
   "execution_count": null,
   "metadata": {
    "deletable": false,
    "nbgrader": {
     "cell_type": "code",
     "checksum": "047ac54bb8966a42ffd443b863b1aad7",
     "grade": false,
     "grade_id": "cell-e8a9dfd93b0e0309",
     "locked": false,
     "schema_version": 3,
     "solution": true
    }
   },
   "outputs": [],
   "source": [
    "import math\n",
    "import random\n",
    "\n",
    "def noisy_signal(start_radians: float):\n",
    "    radians = start_radians\n",
    "    \n",
    "    # YOUR CODE HERE\n",
    "    raise NotImplementedError()"
   ]
  },
  {
   "cell_type": "code",
   "execution_count": null,
   "metadata": {
    "deletable": false,
    "editable": false,
    "nbgrader": {
     "cell_type": "code",
     "checksum": "58d30024ff7eb10073925cd5e181277e",
     "grade": true,
     "grade_id": "cell-59f5d59626ff94cd",
     "locked": true,
     "points": 1,
     "schema_version": 3,
     "solution": false
    }
   },
   "outputs": [],
   "source": [
    "### BEGIN TESTS\n",
    "import inspect\n",
    "\n",
    "assert inspect.isgeneratorfunction(noisy_signal)\n",
    "### END TESTS"
   ]
  },
  {
   "cell_type": "code",
   "execution_count": null,
   "metadata": {
    "deletable": false,
    "editable": false,
    "nbgrader": {
     "cell_type": "code",
     "checksum": "49ba11312d0c1aef44aa29d712e7e465",
     "grade": true,
     "grade_id": "cell-b0d0dd82643824ac",
     "locked": true,
     "points": 0.25,
     "schema_version": 3,
     "solution": false,
     "task": false
    }
   },
   "outputs": [],
   "source": [
    "### BEGIN TESTS\n",
    "assert next(noisy_signal(4.5)) == -0.977530117665097\n",
    "### END TESTS"
   ]
  },
  {
   "cell_type": "code",
   "execution_count": null,
   "metadata": {
    "deletable": false,
    "editable": false,
    "nbgrader": {
     "cell_type": "code",
     "checksum": "b7e0d8cbfa1249c07c0397b6811ddc40",
     "grade": true,
     "grade_id": "cell-c8b67e7d41fc06c4",
     "locked": true,
     "points": 0.25,
     "schema_version": 3,
     "solution": false
    }
   },
   "outputs": [],
   "source": [
    "### BEGIN TESTS\n",
    "gen = noisy_signal(0) \n",
    "points = [next(gen) for _ in range(100000)]\n",
    "assert max(points) <= 1\n",
    "assert min(points) >= -1\n",
    "### END TESTS"
   ]
  },
  {
   "cell_type": "code",
   "execution_count": null,
   "metadata": {
    "deletable": false,
    "editable": false,
    "nbgrader": {
     "cell_type": "code",
     "checksum": "73f56df3e1124000f09a1df083502b60",
     "grade": true,
     "grade_id": "cell-6cb1eeb3900e89eb",
     "locked": true,
     "points": 0.5,
     "schema_version": 3,
     "solution": false
    }
   },
   "outputs": [],
   "source": []
  }
 ],
 "metadata": {
  "kernelspec": {
   "display_name": "Python 3",
   "language": "python",
   "name": "python3"
  },
  "language_info": {
   "codemirror_mode": {
    "name": "ipython",
    "version": 3
   },
   "file_extension": ".py",
   "mimetype": "text/x-python",
   "name": "python",
   "nbconvert_exporter": "python",
   "pygments_lexer": "ipython3",
   "version": "3.8.5"
  }
 },
 "nbformat": 4,
 "nbformat_minor": 2
}
